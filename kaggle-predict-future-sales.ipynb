{
 "cells": [
  {
   "cell_type": "code",
   "execution_count": 2,
   "metadata": {},
   "outputs": [],
   "source": [
    "%load_ext autoreload\n",
    "%autoreload 2\n",
    "\n",
    "%matplotlib inline"
   ]
  },
  {
   "cell_type": "code",
   "execution_count": 3,
   "metadata": {},
   "outputs": [],
   "source": [
    "from fastai.imports import *\n",
    "from fastai.structured import *\n",
    "\n",
    "from pandas_summary import DataFrameSummary\n",
    "from sklearn.ensemble import RandomForestRegressor, RandomForestClassifier\n",
    "from IPython.display import display\n",
    "\n",
    "from sklearn import metrics"
   ]
  },
  {
   "cell_type": "code",
   "execution_count": 4,
   "metadata": {},
   "outputs": [],
   "source": [
    "PATH = \"data/future_sales/\""
   ]
  },
  {
   "cell_type": "code",
   "execution_count": 5,
   "metadata": {},
   "outputs": [
    {
     "name": "stdout",
     "output_type": "stream",
     "text": [
      "item_categories.csv  sales_train.csv\t    shops.csv\r\n",
      "items.csv\t     sample_submission.csv  test.csv\r\n"
     ]
    }
   ],
   "source": [
    "!ls {PATH}"
   ]
  },
  {
   "cell_type": "markdown",
   "metadata": {},
   "source": [
    "## Step 1: Taking a look at the data\n",
    "\n",
    "First we read in the data CSV and take a look at it to get a general feel for things."
   ]
  },
  {
   "cell_type": "code",
   "execution_count": 104,
   "metadata": {},
   "outputs": [
    {
     "data": {
      "text/plain": [
       "datetime.datetime(2014, 8, 9, 0, 0)"
      ]
     },
     "execution_count": 104,
     "metadata": {},
     "output_type": "execute_result"
    }
   ],
   "source": [
    "mydateparser = lambda x: pd.datetime.strptime(x, \"%d.%m.%Y\")\n",
    "mydateparser('09.08.2014')"
   ]
  },
  {
   "cell_type": "code",
   "execution_count": 106,
   "metadata": {},
   "outputs": [],
   "source": [
    "mydateparser = lambda x: pd.datetime.strptime(x, \"%d.%m.%Y\")\n",
    "df_raw = pd.read_csv(f'{PATH}sales_train.csv', low_memory=False, \n",
    "                     parse_dates=[\"date\"], date_parser=mydateparser)"
   ]
  },
  {
   "cell_type": "code",
   "execution_count": 107,
   "metadata": {},
   "outputs": [],
   "source": [
    "def display_all(df):\n",
    "    with pd.option_context(\"display.max_rows\", 1000, \"display.max_columns\", 1000): \n",
    "        display(df)"
   ]
  },
  {
   "cell_type": "code",
   "execution_count": 108,
   "metadata": {},
   "outputs": [
    {
     "data": {
      "text/html": [
       "<div>\n",
       "<style scoped>\n",
       "    .dataframe tbody tr th:only-of-type {\n",
       "        vertical-align: middle;\n",
       "    }\n",
       "\n",
       "    .dataframe tbody tr th {\n",
       "        vertical-align: top;\n",
       "    }\n",
       "\n",
       "    .dataframe thead th {\n",
       "        text-align: right;\n",
       "    }\n",
       "</style>\n",
       "<table border=\"1\" class=\"dataframe\">\n",
       "  <thead>\n",
       "    <tr style=\"text-align: right;\">\n",
       "      <th></th>\n",
       "      <th>date</th>\n",
       "      <th>date_block_num</th>\n",
       "      <th>shop_id</th>\n",
       "      <th>item_id</th>\n",
       "      <th>item_price</th>\n",
       "      <th>item_cnt_day</th>\n",
       "    </tr>\n",
       "  </thead>\n",
       "  <tbody>\n",
       "    <tr>\n",
       "      <th>2935844</th>\n",
       "      <td>2015-10-10</td>\n",
       "      <td>33</td>\n",
       "      <td>25</td>\n",
       "      <td>7409</td>\n",
       "      <td>299.0</td>\n",
       "      <td>1.0</td>\n",
       "    </tr>\n",
       "    <tr>\n",
       "      <th>2935845</th>\n",
       "      <td>2015-10-09</td>\n",
       "      <td>33</td>\n",
       "      <td>25</td>\n",
       "      <td>7460</td>\n",
       "      <td>299.0</td>\n",
       "      <td>1.0</td>\n",
       "    </tr>\n",
       "    <tr>\n",
       "      <th>2935846</th>\n",
       "      <td>2015-10-14</td>\n",
       "      <td>33</td>\n",
       "      <td>25</td>\n",
       "      <td>7459</td>\n",
       "      <td>349.0</td>\n",
       "      <td>1.0</td>\n",
       "    </tr>\n",
       "    <tr>\n",
       "      <th>2935847</th>\n",
       "      <td>2015-10-22</td>\n",
       "      <td>33</td>\n",
       "      <td>25</td>\n",
       "      <td>7440</td>\n",
       "      <td>299.0</td>\n",
       "      <td>1.0</td>\n",
       "    </tr>\n",
       "    <tr>\n",
       "      <th>2935848</th>\n",
       "      <td>2015-10-03</td>\n",
       "      <td>33</td>\n",
       "      <td>25</td>\n",
       "      <td>7460</td>\n",
       "      <td>299.0</td>\n",
       "      <td>1.0</td>\n",
       "    </tr>\n",
       "  </tbody>\n",
       "</table>\n",
       "</div>"
      ],
      "text/plain": [
       "              date  date_block_num  shop_id  item_id  item_price  item_cnt_day\n",
       "2935844 2015-10-10              33       25     7409       299.0           1.0\n",
       "2935845 2015-10-09              33       25     7460       299.0           1.0\n",
       "2935846 2015-10-14              33       25     7459       349.0           1.0\n",
       "2935847 2015-10-22              33       25     7440       299.0           1.0\n",
       "2935848 2015-10-03              33       25     7460       299.0           1.0"
      ]
     },
     "metadata": {},
     "output_type": "display_data"
    }
   ],
   "source": [
    "display_all(df_raw.tail())"
   ]
  },
  {
   "cell_type": "code",
   "execution_count": 109,
   "metadata": {},
   "outputs": [
    {
     "data": {
      "text/html": [
       "<div>\n",
       "<style scoped>\n",
       "    .dataframe tbody tr th:only-of-type {\n",
       "        vertical-align: middle;\n",
       "    }\n",
       "\n",
       "    .dataframe tbody tr th {\n",
       "        vertical-align: top;\n",
       "    }\n",
       "\n",
       "    .dataframe thead th {\n",
       "        text-align: right;\n",
       "    }\n",
       "</style>\n",
       "<table border=\"1\" class=\"dataframe\">\n",
       "  <thead>\n",
       "    <tr style=\"text-align: right;\">\n",
       "      <th></th>\n",
       "      <th>count</th>\n",
       "      <th>unique</th>\n",
       "      <th>top</th>\n",
       "      <th>freq</th>\n",
       "      <th>first</th>\n",
       "      <th>last</th>\n",
       "      <th>mean</th>\n",
       "      <th>std</th>\n",
       "      <th>min</th>\n",
       "      <th>25%</th>\n",
       "      <th>50%</th>\n",
       "      <th>75%</th>\n",
       "      <th>max</th>\n",
       "    </tr>\n",
       "  </thead>\n",
       "  <tbody>\n",
       "    <tr>\n",
       "      <th>date</th>\n",
       "      <td>2935849</td>\n",
       "      <td>1034</td>\n",
       "      <td>2013-12-28 00:00:00</td>\n",
       "      <td>9434</td>\n",
       "      <td>2013-01-01 00:00:00</td>\n",
       "      <td>2015-10-31 00:00:00</td>\n",
       "      <td>NaN</td>\n",
       "      <td>NaN</td>\n",
       "      <td>NaN</td>\n",
       "      <td>NaN</td>\n",
       "      <td>NaN</td>\n",
       "      <td>NaN</td>\n",
       "      <td>NaN</td>\n",
       "    </tr>\n",
       "    <tr>\n",
       "      <th>date_block_num</th>\n",
       "      <td>2.93585e+06</td>\n",
       "      <td>NaN</td>\n",
       "      <td>NaN</td>\n",
       "      <td>NaN</td>\n",
       "      <td>NaN</td>\n",
       "      <td>NaN</td>\n",
       "      <td>14.5699</td>\n",
       "      <td>9.42299</td>\n",
       "      <td>0</td>\n",
       "      <td>7</td>\n",
       "      <td>14</td>\n",
       "      <td>23</td>\n",
       "      <td>33</td>\n",
       "    </tr>\n",
       "    <tr>\n",
       "      <th>shop_id</th>\n",
       "      <td>2.93585e+06</td>\n",
       "      <td>NaN</td>\n",
       "      <td>NaN</td>\n",
       "      <td>NaN</td>\n",
       "      <td>NaN</td>\n",
       "      <td>NaN</td>\n",
       "      <td>33.0017</td>\n",
       "      <td>16.227</td>\n",
       "      <td>0</td>\n",
       "      <td>22</td>\n",
       "      <td>31</td>\n",
       "      <td>47</td>\n",
       "      <td>59</td>\n",
       "    </tr>\n",
       "    <tr>\n",
       "      <th>item_id</th>\n",
       "      <td>2.93585e+06</td>\n",
       "      <td>NaN</td>\n",
       "      <td>NaN</td>\n",
       "      <td>NaN</td>\n",
       "      <td>NaN</td>\n",
       "      <td>NaN</td>\n",
       "      <td>10197.2</td>\n",
       "      <td>6324.3</td>\n",
       "      <td>0</td>\n",
       "      <td>4476</td>\n",
       "      <td>9343</td>\n",
       "      <td>15684</td>\n",
       "      <td>22169</td>\n",
       "    </tr>\n",
       "    <tr>\n",
       "      <th>item_price</th>\n",
       "      <td>2.93585e+06</td>\n",
       "      <td>NaN</td>\n",
       "      <td>NaN</td>\n",
       "      <td>NaN</td>\n",
       "      <td>NaN</td>\n",
       "      <td>NaN</td>\n",
       "      <td>890.853</td>\n",
       "      <td>1729.8</td>\n",
       "      <td>-1</td>\n",
       "      <td>249</td>\n",
       "      <td>399</td>\n",
       "      <td>999</td>\n",
       "      <td>307980</td>\n",
       "    </tr>\n",
       "    <tr>\n",
       "      <th>item_cnt_day</th>\n",
       "      <td>2.93585e+06</td>\n",
       "      <td>NaN</td>\n",
       "      <td>NaN</td>\n",
       "      <td>NaN</td>\n",
       "      <td>NaN</td>\n",
       "      <td>NaN</td>\n",
       "      <td>1.24264</td>\n",
       "      <td>2.61883</td>\n",
       "      <td>-22</td>\n",
       "      <td>1</td>\n",
       "      <td>1</td>\n",
       "      <td>1</td>\n",
       "      <td>2169</td>\n",
       "    </tr>\n",
       "  </tbody>\n",
       "</table>\n",
       "</div>"
      ],
      "text/plain": [
       "                      count unique                  top  freq  \\\n",
       "date                2935849   1034  2013-12-28 00:00:00  9434   \n",
       "date_block_num  2.93585e+06    NaN                  NaN   NaN   \n",
       "shop_id         2.93585e+06    NaN                  NaN   NaN   \n",
       "item_id         2.93585e+06    NaN                  NaN   NaN   \n",
       "item_price      2.93585e+06    NaN                  NaN   NaN   \n",
       "item_cnt_day    2.93585e+06    NaN                  NaN   NaN   \n",
       "\n",
       "                              first                 last     mean      std  \\\n",
       "date            2013-01-01 00:00:00  2015-10-31 00:00:00      NaN      NaN   \n",
       "date_block_num                  NaN                  NaN  14.5699  9.42299   \n",
       "shop_id                         NaN                  NaN  33.0017   16.227   \n",
       "item_id                         NaN                  NaN  10197.2   6324.3   \n",
       "item_price                      NaN                  NaN  890.853   1729.8   \n",
       "item_cnt_day                    NaN                  NaN  1.24264  2.61883   \n",
       "\n",
       "                min   25%   50%    75%     max  \n",
       "date            NaN   NaN   NaN    NaN     NaN  \n",
       "date_block_num    0     7    14     23      33  \n",
       "shop_id           0    22    31     47      59  \n",
       "item_id           0  4476  9343  15684   22169  \n",
       "item_price       -1   249   399    999  307980  \n",
       "item_cnt_day    -22     1     1      1    2169  "
      ]
     },
     "metadata": {},
     "output_type": "display_data"
    }
   ],
   "source": [
    "display_all(df_raw.describe(include='all').T)"
   ]
  },
  {
   "cell_type": "code",
   "execution_count": 110,
   "metadata": {},
   "outputs": [],
   "source": [
    "# Store data in feather format for faster recovery on kernel restart.\n",
    "os.makedirs('tmp', exist_ok=True)\n",
    "df_raw.to_feather('tmp/sales-raw')"
   ]
  },
  {
   "cell_type": "code",
   "execution_count": 8,
   "metadata": {},
   "outputs": [],
   "source": [
    "df_test = pd.read_csv(f'{PATH}test.csv', low_memory=False)"
   ]
  },
  {
   "cell_type": "code",
   "execution_count": 134,
   "metadata": {},
   "outputs": [
    {
     "data": {
      "text/html": [
       "<div>\n",
       "<style scoped>\n",
       "    .dataframe tbody tr th:only-of-type {\n",
       "        vertical-align: middle;\n",
       "    }\n",
       "\n",
       "    .dataframe tbody tr th {\n",
       "        vertical-align: top;\n",
       "    }\n",
       "\n",
       "    .dataframe thead th {\n",
       "        text-align: right;\n",
       "    }\n",
       "</style>\n",
       "<table border=\"1\" class=\"dataframe\">\n",
       "  <thead>\n",
       "    <tr style=\"text-align: right;\">\n",
       "      <th></th>\n",
       "      <th>ID</th>\n",
       "      <th>shop_id</th>\n",
       "      <th>item_id</th>\n",
       "    </tr>\n",
       "  </thead>\n",
       "  <tbody>\n",
       "    <tr>\n",
       "      <th>214195</th>\n",
       "      <td>214195</td>\n",
       "      <td>45</td>\n",
       "      <td>18454</td>\n",
       "    </tr>\n",
       "    <tr>\n",
       "      <th>214196</th>\n",
       "      <td>214196</td>\n",
       "      <td>45</td>\n",
       "      <td>16188</td>\n",
       "    </tr>\n",
       "    <tr>\n",
       "      <th>214197</th>\n",
       "      <td>214197</td>\n",
       "      <td>45</td>\n",
       "      <td>15757</td>\n",
       "    </tr>\n",
       "    <tr>\n",
       "      <th>214198</th>\n",
       "      <td>214198</td>\n",
       "      <td>45</td>\n",
       "      <td>19648</td>\n",
       "    </tr>\n",
       "    <tr>\n",
       "      <th>214199</th>\n",
       "      <td>214199</td>\n",
       "      <td>45</td>\n",
       "      <td>969</td>\n",
       "    </tr>\n",
       "  </tbody>\n",
       "</table>\n",
       "</div>"
      ],
      "text/plain": [
       "            ID  shop_id  item_id\n",
       "214195  214195       45    18454\n",
       "214196  214196       45    16188\n",
       "214197  214197       45    15757\n",
       "214198  214198       45    19648\n",
       "214199  214199       45      969"
      ]
     },
     "metadata": {},
     "output_type": "display_data"
    }
   ],
   "source": [
    "display_all(df_test.tail())"
   ]
  },
  {
   "cell_type": "code",
   "execution_count": 97,
   "metadata": {},
   "outputs": [
    {
     "data": {
      "text/html": [
       "<div>\n",
       "<style scoped>\n",
       "    .dataframe tbody tr th:only-of-type {\n",
       "        vertical-align: middle;\n",
       "    }\n",
       "\n",
       "    .dataframe tbody tr th {\n",
       "        vertical-align: top;\n",
       "    }\n",
       "\n",
       "    .dataframe thead th {\n",
       "        text-align: right;\n",
       "    }\n",
       "</style>\n",
       "<table border=\"1\" class=\"dataframe\">\n",
       "  <thead>\n",
       "    <tr style=\"text-align: right;\">\n",
       "      <th></th>\n",
       "      <th>item_name</th>\n",
       "      <th>item_id</th>\n",
       "      <th>item_category_id</th>\n",
       "    </tr>\n",
       "  </thead>\n",
       "  <tbody>\n",
       "    <tr>\n",
       "      <th>0</th>\n",
       "      <td>! ВО ВЛАСТИ НАВАЖДЕНИЯ (ПЛАСТ.)         D</td>\n",
       "      <td>0</td>\n",
       "      <td>40</td>\n",
       "    </tr>\n",
       "    <tr>\n",
       "      <th>1</th>\n",
       "      <td>!ABBYY FineReader 12 Professional Edition Full...</td>\n",
       "      <td>1</td>\n",
       "      <td>76</td>\n",
       "    </tr>\n",
       "    <tr>\n",
       "      <th>2</th>\n",
       "      <td>***В ЛУЧАХ СЛАВЫ   (UNV)                    D</td>\n",
       "      <td>2</td>\n",
       "      <td>40</td>\n",
       "    </tr>\n",
       "    <tr>\n",
       "      <th>3</th>\n",
       "      <td>***ГОЛУБАЯ ВОЛНА  (Univ)                      D</td>\n",
       "      <td>3</td>\n",
       "      <td>40</td>\n",
       "    </tr>\n",
       "    <tr>\n",
       "      <th>4</th>\n",
       "      <td>***КОРОБКА (СТЕКЛО)                       D</td>\n",
       "      <td>4</td>\n",
       "      <td>40</td>\n",
       "    </tr>\n",
       "  </tbody>\n",
       "</table>\n",
       "</div>"
      ],
      "text/plain": [
       "                                           item_name  item_id  \\\n",
       "0          ! ВО ВЛАСТИ НАВАЖДЕНИЯ (ПЛАСТ.)         D        0   \n",
       "1  !ABBYY FineReader 12 Professional Edition Full...        1   \n",
       "2      ***В ЛУЧАХ СЛАВЫ   (UNV)                    D        2   \n",
       "3    ***ГОЛУБАЯ ВОЛНА  (Univ)                      D        3   \n",
       "4        ***КОРОБКА (СТЕКЛО)                       D        4   \n",
       "\n",
       "   item_category_id  \n",
       "0                40  \n",
       "1                76  \n",
       "2                40  \n",
       "3                40  \n",
       "4                40  "
      ]
     },
     "execution_count": 97,
     "metadata": {},
     "output_type": "execute_result"
    }
   ],
   "source": [
    "items = pd.read_csv(f'{PATH}items.csv', low_memory=False)\n",
    "items.head()"
   ]
  },
  {
   "cell_type": "markdown",
   "metadata": {},
   "source": [
    "## Step 2: Pre-processing\n",
    "\n",
    "First of all, the training data set doesn't resemble the format of our submission data at all. It doesn't include the dependent variable (`items_cnt_month`). The data set only gives us `item_cnt_day`. Therefore we need to calculate `items_cnt_month` for each `ID`. The ID comes from the test set itself, and is not present in the training data, so we need to add that to even aggregate the item_cnt_month.\n",
    "\n",
    "My overall thought for how to handle this problem is to augment and pre-process both the test set and training set into two data frames with the same columns, that way I can use a Random Forest model to predict the `items_cnt_month`.\n"
   ]
  },
  {
   "cell_type": "code",
   "execution_count": 10,
   "metadata": {},
   "outputs": [],
   "source": [
    "df_raw = pd.read_feather('tmp/sales-raw')"
   ]
  },
  {
   "cell_type": "code",
   "execution_count": 11,
   "metadata": {},
   "outputs": [
    {
     "data": {
      "text/html": [
       "<div>\n",
       "<style scoped>\n",
       "    .dataframe tbody tr th:only-of-type {\n",
       "        vertical-align: middle;\n",
       "    }\n",
       "\n",
       "    .dataframe tbody tr th {\n",
       "        vertical-align: top;\n",
       "    }\n",
       "\n",
       "    .dataframe thead th {\n",
       "        text-align: right;\n",
       "    }\n",
       "</style>\n",
       "<table border=\"1\" class=\"dataframe\">\n",
       "  <thead>\n",
       "    <tr style=\"text-align: right;\">\n",
       "      <th></th>\n",
       "      <th>date</th>\n",
       "      <th>shop_id</th>\n",
       "      <th>item_id</th>\n",
       "      <th>item_price</th>\n",
       "      <th>item_cnt_day</th>\n",
       "      <th>ID</th>\n",
       "      <th>item_category_id</th>\n",
       "    </tr>\n",
       "  </thead>\n",
       "  <tbody>\n",
       "    <tr>\n",
       "      <th>0</th>\n",
       "      <td>2013-01-02</td>\n",
       "      <td>59</td>\n",
       "      <td>22154</td>\n",
       "      <td>999.0</td>\n",
       "      <td>1.0</td>\n",
       "      <td>150983</td>\n",
       "      <td>37</td>\n",
       "    </tr>\n",
       "    <tr>\n",
       "      <th>1</th>\n",
       "      <td>2013-01-23</td>\n",
       "      <td>24</td>\n",
       "      <td>22154</td>\n",
       "      <td>999.0</td>\n",
       "      <td>1.0</td>\n",
       "      <td>69383</td>\n",
       "      <td>37</td>\n",
       "    </tr>\n",
       "    <tr>\n",
       "      <th>2</th>\n",
       "      <td>2015-10-10</td>\n",
       "      <td>24</td>\n",
       "      <td>22154</td>\n",
       "      <td>299.0</td>\n",
       "      <td>1.0</td>\n",
       "      <td>69383</td>\n",
       "      <td>37</td>\n",
       "    </tr>\n",
       "    <tr>\n",
       "      <th>3</th>\n",
       "      <td>2013-01-02</td>\n",
       "      <td>25</td>\n",
       "      <td>22154</td>\n",
       "      <td>999.0</td>\n",
       "      <td>1.0</td>\n",
       "      <td>59183</td>\n",
       "      <td>37</td>\n",
       "    </tr>\n",
       "    <tr>\n",
       "      <th>4</th>\n",
       "      <td>2013-01-03</td>\n",
       "      <td>25</td>\n",
       "      <td>22154</td>\n",
       "      <td>999.0</td>\n",
       "      <td>1.0</td>\n",
       "      <td>59183</td>\n",
       "      <td>37</td>\n",
       "    </tr>\n",
       "  </tbody>\n",
       "</table>\n",
       "</div>"
      ],
      "text/plain": [
       "        date  shop_id  item_id  item_price  item_cnt_day      ID  \\\n",
       "0 2013-01-02       59    22154       999.0           1.0  150983   \n",
       "1 2013-01-23       24    22154       999.0           1.0   69383   \n",
       "2 2015-10-10       24    22154       299.0           1.0   69383   \n",
       "3 2013-01-02       25    22154       999.0           1.0   59183   \n",
       "4 2013-01-03       25    22154       999.0           1.0   59183   \n",
       "\n",
       "   item_category_id  \n",
       "0                37  \n",
       "1                37  \n",
       "2                37  \n",
       "3                37  \n",
       "4                37  "
      ]
     },
     "execution_count": 11,
     "metadata": {},
     "output_type": "execute_result"
    }
   ],
   "source": [
    "# Add ID column to df_raw and drop unnecessary columns (date_block_num, item_name)\n",
    "df = pd.merge(df_raw, df_test,  how='inner', on=['shop_id','item_id'])\n",
    "df = pd.merge(df, items, how='inner', on='item_id')\n",
    "df.drop(['date_block_num', 'item_name'], axis=1, inplace=True)\n",
    "df.head()"
   ]
  },
  {
   "cell_type": "code",
   "execution_count": 12,
   "metadata": {},
   "outputs": [
    {
     "data": {
      "text/html": [
       "<div>\n",
       "<style scoped>\n",
       "    .dataframe tbody tr th:only-of-type {\n",
       "        vertical-align: middle;\n",
       "    }\n",
       "\n",
       "    .dataframe tbody tr th {\n",
       "        vertical-align: top;\n",
       "    }\n",
       "\n",
       "    .dataframe thead th {\n",
       "        text-align: right;\n",
       "    }\n",
       "</style>\n",
       "<table border=\"1\" class=\"dataframe\">\n",
       "  <thead>\n",
       "    <tr style=\"text-align: right;\">\n",
       "      <th></th>\n",
       "      <th>ID</th>\n",
       "      <th>shop_id</th>\n",
       "      <th>item_id</th>\n",
       "      <th>item_category_id</th>\n",
       "      <th>item_price</th>\n",
       "      <th>items_cnt_month</th>\n",
       "      <th>date_month</th>\n",
       "    </tr>\n",
       "  </thead>\n",
       "  <tbody>\n",
       "    <tr>\n",
       "      <th>0</th>\n",
       "      <td>0</td>\n",
       "      <td>5</td>\n",
       "      <td>5037</td>\n",
       "      <td>19</td>\n",
       "      <td>749.0</td>\n",
       "      <td>1.0</td>\n",
       "      <td>201508</td>\n",
       "    </tr>\n",
       "    <tr>\n",
       "      <th>1</th>\n",
       "      <td>0</td>\n",
       "      <td>5</td>\n",
       "      <td>5037</td>\n",
       "      <td>19</td>\n",
       "      <td>749.5</td>\n",
       "      <td>1.0</td>\n",
       "      <td>201508</td>\n",
       "    </tr>\n",
       "    <tr>\n",
       "      <th>2</th>\n",
       "      <td>0</td>\n",
       "      <td>5</td>\n",
       "      <td>5037</td>\n",
       "      <td>19</td>\n",
       "      <td>749.5</td>\n",
       "      <td>1.0</td>\n",
       "      <td>201509</td>\n",
       "    </tr>\n",
       "    <tr>\n",
       "      <th>3</th>\n",
       "      <td>0</td>\n",
       "      <td>5</td>\n",
       "      <td>5037</td>\n",
       "      <td>19</td>\n",
       "      <td>1299.0</td>\n",
       "      <td>1.0</td>\n",
       "      <td>201505</td>\n",
       "    </tr>\n",
       "    <tr>\n",
       "      <th>4</th>\n",
       "      <td>0</td>\n",
       "      <td>5</td>\n",
       "      <td>5037</td>\n",
       "      <td>19</td>\n",
       "      <td>1499.0</td>\n",
       "      <td>1.0</td>\n",
       "      <td>201506</td>\n",
       "    </tr>\n",
       "  </tbody>\n",
       "</table>\n",
       "</div>"
      ],
      "text/plain": [
       "   ID  shop_id  item_id  item_category_id  item_price  items_cnt_month  \\\n",
       "0   0        5     5037                19       749.0              1.0   \n",
       "1   0        5     5037                19       749.5              1.0   \n",
       "2   0        5     5037                19       749.5              1.0   \n",
       "3   0        5     5037                19      1299.0              1.0   \n",
       "4   0        5     5037                19      1499.0              1.0   \n",
       "\n",
       "   date_month  \n",
       "0      201508  \n",
       "1      201508  \n",
       "2      201509  \n",
       "3      201505  \n",
       "4      201506  "
      ]
     },
     "execution_count": 12,
     "metadata": {},
     "output_type": "execute_result"
    }
   ],
   "source": [
    "# Aggregate each month/item/shop combination to an items_cnt_month\n",
    "grouped = df.groupby(['ID', 'shop_id', 'item_id', 'item_category_id', 'item_price', pd.Grouper(key='date', freq='M')])['item_cnt_day'].sum()\n",
    "grouped = grouped.reset_index()\n",
    "grouped.rename(index=str, columns={\"item_cnt_day\": \"items_cnt_month\"}, inplace=True)\n",
    "# Now, replace 'date' dt column with 'date_month' integer\n",
    "grouped['date_month'] = grouped['date'].apply(lambda dt: f'{dt.year:04}{dt.month:02}')\n",
    "grouped.drop(['date'], axis=1, inplace=True)\n",
    "grouped.date_month = pd.to_numeric(grouped.date_month)\n",
    "df = grouped\n",
    "df.head()"
   ]
  },
  {
   "cell_type": "code",
   "execution_count": 13,
   "metadata": {},
   "outputs": [
    {
     "data": {
      "text/plain": [
       "ID                    int64\n",
       "shop_id               int64\n",
       "item_id               int64\n",
       "item_category_id      int64\n",
       "item_price          float64\n",
       "items_cnt_month     float64\n",
       "date_month            int64\n",
       "dtype: object"
      ]
     },
     "execution_count": 13,
     "metadata": {},
     "output_type": "execute_result"
    }
   ],
   "source": [
    "# Confirm our new dt is all numeric columns\n",
    "df.dtypes"
   ]
  },
  {
   "cell_type": "code",
   "execution_count": 14,
   "metadata": {},
   "outputs": [
    {
     "data": {
      "text/html": [
       "<div>\n",
       "<style scoped>\n",
       "    .dataframe tbody tr th:only-of-type {\n",
       "        vertical-align: middle;\n",
       "    }\n",
       "\n",
       "    .dataframe tbody tr th {\n",
       "        vertical-align: top;\n",
       "    }\n",
       "\n",
       "    .dataframe thead th {\n",
       "        text-align: right;\n",
       "    }\n",
       "</style>\n",
       "<table border=\"1\" class=\"dataframe\">\n",
       "  <thead>\n",
       "    <tr style=\"text-align: right;\">\n",
       "      <th></th>\n",
       "      <th>ID</th>\n",
       "      <th>shop_id</th>\n",
       "      <th>item_id</th>\n",
       "      <th>item_category_id</th>\n",
       "      <th>item_price</th>\n",
       "      <th>items_cnt_month</th>\n",
       "      <th>date_month</th>\n",
       "    </tr>\n",
       "  </thead>\n",
       "  <tbody>\n",
       "    <tr>\n",
       "      <th>0</th>\n",
       "      <td>88174</td>\n",
       "      <td>18</td>\n",
       "      <td>16146</td>\n",
       "      <td>64</td>\n",
       "      <td>1399.0</td>\n",
       "      <td>1.0</td>\n",
       "      <td>201301</td>\n",
       "    </tr>\n",
       "    <tr>\n",
       "      <th>1</th>\n",
       "      <td>19220</td>\n",
       "      <td>3</td>\n",
       "      <td>5272</td>\n",
       "      <td>30</td>\n",
       "      <td>599.0</td>\n",
       "      <td>2.0</td>\n",
       "      <td>201301</td>\n",
       "    </tr>\n",
       "    <tr>\n",
       "      <th>2</th>\n",
       "      <td>82894</td>\n",
       "      <td>16</td>\n",
       "      <td>16167</td>\n",
       "      <td>64</td>\n",
       "      <td>659.0</td>\n",
       "      <td>1.0</td>\n",
       "      <td>201301</td>\n",
       "    </tr>\n",
       "    <tr>\n",
       "      <th>3</th>\n",
       "      <td>178465</td>\n",
       "      <td>35</td>\n",
       "      <td>18589</td>\n",
       "      <td>37</td>\n",
       "      <td>999.0</td>\n",
       "      <td>1.0</td>\n",
       "      <td>201301</td>\n",
       "    </tr>\n",
       "    <tr>\n",
       "      <th>4</th>\n",
       "      <td>5122</td>\n",
       "      <td>4</td>\n",
       "      <td>5823</td>\n",
       "      <td>35</td>\n",
       "      <td>2500.0</td>\n",
       "      <td>1.0</td>\n",
       "      <td>201301</td>\n",
       "    </tr>\n",
       "  </tbody>\n",
       "</table>\n",
       "</div>"
      ],
      "text/plain": [
       "       ID  shop_id  item_id  item_category_id  item_price  items_cnt_month  \\\n",
       "0   88174       18    16146                64      1399.0              1.0   \n",
       "1   19220        3     5272                30       599.0              2.0   \n",
       "2   82894       16    16167                64       659.0              1.0   \n",
       "3  178465       35    18589                37       999.0              1.0   \n",
       "4    5122        4     5823                35      2500.0              1.0   \n",
       "\n",
       "   date_month  \n",
       "0      201301  \n",
       "1      201301  \n",
       "2      201301  \n",
       "3      201301  \n",
       "4      201301  "
      ]
     },
     "execution_count": 14,
     "metadata": {},
     "output_type": "execute_result"
    }
   ],
   "source": [
    "# Sort by date, which is important because we want to practice predicting the future within our training set.\n",
    "df.sort_values(by=['date_month'], inplace=True)\n",
    "df.reset_index(drop=True, inplace=True)\n",
    "df.head()"
   ]
  },
  {
   "cell_type": "code",
   "execution_count": 15,
   "metadata": {},
   "outputs": [],
   "source": [
    "df, y, nas = proc_df(df, 'items_cnt_month')"
   ]
  },
  {
   "cell_type": "markdown",
   "metadata": {},
   "source": [
    "### Step 3: Training with Random Forest\n",
    "\n",
    "First step here will be to split out a training set vs. testing set from the Kaggle training data. We NEVER want to use the real test set until our final test, and will instead use this X_valid / y_valid to validate our model. In order to speed up our executions (during interactive model experimentation), we also make a subset of the training data."
   ]
  },
  {
   "cell_type": "code",
   "execution_count": 16,
   "metadata": {},
   "outputs": [
    {
     "data": {
      "text/plain": [
       "666172"
      ]
     },
     "execution_count": 16,
     "metadata": {},
     "output_type": "execute_result"
    }
   ],
   "source": [
    "len(df)"
   ]
  },
  {
   "cell_type": "code",
   "execution_count": 17,
   "metadata": {},
   "outputs": [
    {
     "data": {
      "text/plain": [
       "((654172, 6), (654172,), (30000, 6), (30000,), (12000, 6), (12000,))"
      ]
     },
     "execution_count": 17,
     "metadata": {},
     "output_type": "execute_result"
    }
   ],
   "source": [
    "def split_vals(a,n): return a[:n].copy(), a[n:].copy()\n",
    "\n",
    "n_valid = 12000\n",
    "n_trn = len(df)-n_valid\n",
    "n_trn_small = 30000 # smaller subset of training data for use as I'm iterating on solutions, e.g. hyperparameter tuning\n",
    "X_train_full, X_valid = split_vals(df, n_trn)\n",
    "y_train_full, y_valid = split_vals(y, n_trn)\n",
    "X_train, _ = split_vals(X_train_full, n_trn_small)\n",
    "y_train, _ = split_vals(y_train_full, n_trn_small)\n",
    "\n",
    "X_train_full.shape, y_train_full.shape, X_train.shape, y_train.shape, X_valid.shape, y_valid.shape"
   ]
  },
  {
   "cell_type": "code",
   "execution_count": 18,
   "metadata": {},
   "outputs": [],
   "source": [
    "def rmse(x,y): return math.sqrt(((x-y)**2).mean())\n",
    "\n",
    "def print_score(m):\n",
    "    res = [rmse(m.predict(X_train), y_train), rmse(m.predict(X_valid), y_valid),\n",
    "                m.score(X_train, y_train), m.score(X_valid, y_valid)]\n",
    "    if hasattr(m, 'oob_score_'): res.append(m.oob_score_)\n",
    "    print(res)"
   ]
  },
  {
   "cell_type": "markdown",
   "metadata": {},
   "source": [
    "### 3.1 Initial results\n",
    "\n",
    "I was surprised to find the initial training subset got very poor results (-0.2 $R^2$), but the full training set got pretty good results (0.82 $R^2$). My hypothesis is that it's because the data is sorted, so our small training set is from 2013 but the validation set is from 2015. There's probably a lot of change over time which this cannot account for. The good news is that our final test set is only 1 month in the future, so the good results for the full training set should apply to that."
   ]
  },
  {
   "cell_type": "code",
   "execution_count": 201,
   "metadata": {},
   "outputs": [
    {
     "name": "stdout",
     "output_type": "stream",
     "text": [
      "CPU times: user 1.4 s, sys: 31.3 ms, total: 1.43 s\n",
      "Wall time: 418 ms\n",
      "[1.5269265426557581, 7.978737003227182, 0.9077798940019464, -0.23296700926703884]\n"
     ]
    }
   ],
   "source": [
    "m = RandomForestRegressor(n_jobs=-1, n_estimators=10)\n",
    "%time m.fit(X_train, y_train)\n",
    "print_score(m)"
   ]
  },
  {
   "cell_type": "code",
   "execution_count": 205,
   "metadata": {},
   "outputs": [
    {
     "name": "stdout",
     "output_type": "stream",
     "text": [
      "CPU times: user 1min 7s, sys: 1.14 s, total: 1min 8s\n",
      "Wall time: 19.5 s\n",
      "[1.5208172145264531, 2.9033350076535545, 0.9085163744637692, 0.8367408775606044]\n"
     ]
    }
   ],
   "source": [
    "m = RandomForestRegressor(n_jobs=-1, n_estimators=10)\n",
    "%time m.fit(X_train_full, y_train_full)\n",
    "print_score(m)"
   ]
  },
  {
   "cell_type": "markdown",
   "metadata": {},
   "source": [
    "Attempting to create a better subset by pulling values from across the time range of X_train_full. I do this by taking each 10th item to get a 10% sample of the full data size."
   ]
  },
  {
   "cell_type": "code",
   "execution_count": 220,
   "metadata": {},
   "outputs": [
    {
     "data": {
      "text/plain": [
       "((65418, 6), (65418,))"
      ]
     },
     "execution_count": 220,
     "metadata": {},
     "output_type": "execute_result"
    }
   ],
   "source": [
    "X_train = X_train_full.iloc[::10, :]\n",
    "y_train = y_train_full[::10]\n",
    "X_train.shape, y_train.shape"
   ]
  },
  {
   "cell_type": "code",
   "execution_count": 219,
   "metadata": {},
   "outputs": [
    {
     "name": "stdout",
     "output_type": "stream",
     "text": [
      "CPU times: user 4.39 s, sys: 53.2 ms, total: 4.44 s\n",
      "Wall time: 1.34 s\n",
      "[2.433524216292979, 3.738546620457385, 0.9363396274584419, 0.7292996871047386]\n"
     ]
    }
   ],
   "source": [
    "m = RandomForestRegressor(n_jobs=-1, n_estimators=10)\n",
    "%time m.fit(X_train, y_train)\n",
    "print_score(m)"
   ]
  },
  {
   "cell_type": "code",
   "execution_count": 108,
   "metadata": {},
   "outputs": [
    {
     "data": {
      "text/plain": [
       "((30000, 6),\n",
       "             ID  shop_id  item_id  item_category_id  item_price  date_month\n",
       " 624172  131563       47     3971                55       299.0      201509\n",
       " 624173   26241        7    12707                38       499.0      201509\n",
       " 624174  170917       37     6694                23       599.5      201509\n",
       " 624175   41435       28     3735                24      4499.0      201509\n",
       " 624176   46291       31    15049                61      1499.0      201509)"
      ]
     },
     "execution_count": 108,
     "metadata": {},
     "output_type": "execute_result"
    }
   ],
   "source": [
    "# Second idea is to only use recent data for training.. but this didn't pan out.\n",
    "_, X_train_recent = split_vals(X_train_full, len(X_train_full) - 30000)\n",
    "_, y_train_recent = split_vals(y_train_full, len(y_train_full) - 30000)\n",
    "X_train_recent.shape, X_train_recent.head()"
   ]
  },
  {
   "cell_type": "code",
   "execution_count": 109,
   "metadata": {},
   "outputs": [
    {
     "name": "stdout",
     "output_type": "stream",
     "text": [
      "CPU times: user 3.87 s, sys: 30.7 ms, total: 3.9 s\n",
      "Wall time: 1.15 s\n",
      "[5.055467866989827, 5.9091180426241845, -0.010908938562524506, 0.3237169733918197]\n"
     ]
    }
   ],
   "source": [
    "m = RandomForestRegressor(n_jobs=-1, n_estimators=40, max_features=0.5)\n",
    "%time m.fit(X_train_recent, y_train_recent)\n",
    "print_score(m)"
   ]
  },
  {
   "cell_type": "markdown",
   "metadata": {},
   "source": [
    "### 3.2 More Bagging (`n_estimators`)\n",
    "\n",
    "The first hyperparameter to tune is n_estimators. Let's see how adding more improves the values."
   ]
  },
  {
   "cell_type": "code",
   "execution_count": 206,
   "metadata": {},
   "outputs": [
    {
     "data": {
      "text/plain": [
       "(array([1., 1., 1., 1., 2., 1., 1., 1., 1., 2.]), 1.2, 1.0)"
      ]
     },
     "execution_count": 206,
     "metadata": {},
     "output_type": "execute_result"
    }
   ],
   "source": [
    "preds = np.stack([t.predict(X_valid) for t in m.estimators_])\n",
    "preds[:,0], np.mean(preds[:,0]), y_valid[0]"
   ]
  },
  {
   "cell_type": "code",
   "execution_count": 207,
   "metadata": {},
   "outputs": [
    {
     "data": {
      "image/png": "[encoded data removed]",
      "text/plain": [
       "<Figure size 432x288 with 1 Axes>"
      ]
     },
     "metadata": {
      "needs_background": "light"
     },
     "output_type": "display_data"
    }
   ],
   "source": [
    "plt.plot([metrics.r2_score(y_valid, np.mean(preds[:i+1], axis=0)) for i in range(10)]);"
   ]
  },
  {
   "cell_type": "code",
   "execution_count": 222,
   "metadata": {},
   "outputs": [
    {
     "name": "stdout",
     "output_type": "stream",
     "text": [
      "[2.8887982994080135, 3.623001173060809, 0.9102917735504021, 0.7457739173253576]\n",
      "[2.3727358505640743, 4.021252551548253, 0.9394803210303597, 0.6868114650828929]\n",
      "[2.438647239212256, 3.7923605775295157, 0.9360713113830113, 0.7214504873772574]\n",
      "[2.4278262140669815, 3.668258177922573, 0.9366373950128437, 0.7393828776839472]\n",
      "[2.3655597829938633, 3.7080720597097354, 0.9398458371246631, 0.7336948980765997]\n"
     ]
    }
   ],
   "source": [
    "for n in [10, 20, 40, 80, 100]:\n",
    "    m = RandomForestRegressor(n_estimators=n, n_jobs=-1)\n",
    "    m.fit(X_train, y_train)\n",
    "    print_score(m)"
   ]
  },
  {
   "cell_type": "code",
   "execution_count": 223,
   "metadata": {},
   "outputs": [
    {
     "data": {
      "image/png": "[encoded data removed]",
      "text/plain": [
       "<Figure size 432x288 with 1 Axes>"
      ]
     },
     "metadata": {
      "needs_background": "light"
     },
     "output_type": "display_data"
    }
   ],
   "source": [
    "preds = np.stack([t.predict(X_valid) for t in m.estimators_])\n",
    "plt.plot([metrics.r2_score(y_valid, np.mean(preds[:i+1], axis=0)) for i in range(100)]);"
   ]
  },
  {
   "cell_type": "markdown",
   "metadata": {},
   "source": [
    "**Results**\n",
    "\n",
    "The `n_estimators`=100 seems to be better than the default of 10, although the data is definitely very random and different executions lead to different results.  But the plot of estimators shows that we don't peak until around 20-40 range, so it definitely pays to use more than 10."
   ]
  },
  {
   "cell_type": "markdown",
   "metadata": {},
   "source": [
    "### 3.3 Tree Building Parameters (`min_samples_leaf` and `max_features`)\n",
    "\n",
    "Let's try varying the tree building parameters to create more variance in each decision tree, thereby improving the error rate of our random forest.\n",
    "\n",
    "**Min Leaf Samples**\n",
    "\n",
    "The first test is on `min_samples_leaf`. The results of 1,3,5,10,25 seem to get worse $R^2$ values. This is then confirmed by testing on the full set, where we get $R^2 = 0.78$ instead of $R^2 = 0.83$ on the default `min_samples_leaf` value of 1."
   ]
  },
  {
   "cell_type": "code",
   "execution_count": 228,
   "metadata": {},
   "outputs": [
    {
     "name": "stdout",
     "output_type": "stream",
     "text": [
      "[2.7119601307489676, 3.4474179951571484, 0.9209386124109963, 0.7698181666649794]\n",
      "[4.627256930827338, 3.3851392793412733, 0.7698319383469918, 0.7780596633065805]\n",
      "[5.686419229817797, 4.260712343232501, 0.6524033512092633, 0.6484010374853599]\n",
      "[6.404868905215068, 4.563732220226669, 0.5590205807001856, 0.5966115452610505]\n",
      "[7.218682442563223, 5.400383966795238, 0.4398379207365683, 0.43515090836775533]\n",
      "[4.286122072116515, 4.696836893249292, 0.8025182791407649, 0.572738152862046]\n"
     ]
    }
   ],
   "source": [
    "for n in [1, 3, 5, 10, 25]:\n",
    "    m = RandomForestRegressor(n_estimators=10, n_jobs=-1, min_samples_leaf=n)\n",
    "    m.fit(X_train, y_train)\n",
    "    print_score(m)\n",
    "\n",
    "m = RandomForestRegressor(n_estimators=10, n_jobs=-1, min_samples_leaf=5)\n",
    "m.fit(X_train_full, y_train_full)\n",
    "print_score(m)"
   ]
  },
  {
   "cell_type": "markdown",
   "metadata": {},
   "source": [
    "**Max Features**\n",
    "\n",
    "Using 0.5 or sqrt seems to be marginally better, so we tried it on the full set. The $R^2 = 0.844$ is marginally better than the $R^2 = 0.83$, so it's worth keeping this. "
   ]
  },
  {
   "cell_type": "code",
   "execution_count": 229,
   "metadata": {},
   "outputs": [
    {
     "name": "stdout",
     "output_type": "stream",
     "text": [
      "[2.35080127272915, 3.678555876065135, 0.9405940882823696, 0.73791759181446]\n",
      "[2.674461192504593, 3.6589151397647908, 0.9231098988654247, 0.740708768441592]\n",
      "[2.870876634149668, 4.732181051058803, 0.9114013932687522, 0.566283583738727]\n",
      "[2.5518396436029454, 3.617084000499113, 0.9299989440578282, 0.7466036554899053]\n",
      "[2.7770152264852808, 4.483759583206933, 0.9171000338577924, 0.6106252438160671]\n"
     ]
    }
   ],
   "source": [
    "for n in [None, 0.5, 0.25, 'sqrt', 'log2']:\n",
    "    m = RandomForestRegressor(n_estimators=10, n_jobs=-1, max_features=n)\n",
    "    m.fit(X_train, y_train)\n",
    "    print_score(m)"
   ]
  },
  {
   "cell_type": "code",
   "execution_count": 230,
   "metadata": {},
   "outputs": [
    {
     "name": "stdout",
     "output_type": "stream",
     "text": [
      "[1.816666281002775, 2.836676605936367, 0.9645228975704127, 0.8441514340745044]\n"
     ]
    }
   ],
   "source": [
    "m = RandomForestRegressor(n_estimators=10, n_jobs=-1, max_features=0.5)\n",
    "m.fit(X_train_full, y_train_full)\n",
    "print_score(m)"
   ]
  },
  {
   "cell_type": "markdown",
   "metadata": {},
   "source": [
    "### 3.4 Putting it all together\n",
    "\n",
    "Our (admittedly incomplete) tuned hyperparameters come out to:\n",
    "\n",
    "* `n_estimators` = 40\n",
    "* `min_samples_leaf` = 1 (the default)\n",
    "* `max_features` = 0.5\n",
    "\n",
    "The resulting $R^2 = 0.848$ which is pretty close to the initial results but hopefully will perform slightly better."
   ]
  },
  {
   "cell_type": "code",
   "execution_count": 20,
   "metadata": {},
   "outputs": [
    {
     "name": "stdout",
     "output_type": "stream",
     "text": [
      "CPU times: user 2min 37s, sys: 2.1 s, total: 2min 39s\n",
      "Wall time: 43.8 s\n",
      "[1.388459968214184, 2.7954167380881394, 0.9237471547056954, 0.8486521420277446, 0.7341725555874623]\n"
     ]
    }
   ],
   "source": [
    "m = RandomForestRegressor(n_estimators=40, n_jobs=-1, max_features=0.5, oob_score=True)\n",
    "%time m.fit(X_train_full, y_train_full)\n",
    "print_score(m)"
   ]
  },
  {
   "cell_type": "markdown",
   "metadata": {},
   "source": [
    "## 4. Creating the submission\n",
    "\n",
    "This Kaggle set is not trivial to create the submission because the test data is nothing like the training data. In order to create the submission, we will tweak `df_test` to match the expected input to the model, that is the current `df`."
   ]
  },
  {
   "cell_type": "code",
   "execution_count": 31,
   "metadata": {},
   "outputs": [
    {
     "data": {
      "text/html": [
       "<div>\n",
       "<style scoped>\n",
       "    .dataframe tbody tr th:only-of-type {\n",
       "        vertical-align: middle;\n",
       "    }\n",
       "\n",
       "    .dataframe tbody tr th {\n",
       "        vertical-align: top;\n",
       "    }\n",
       "\n",
       "    .dataframe thead th {\n",
       "        text-align: right;\n",
       "    }\n",
       "</style>\n",
       "<table border=\"1\" class=\"dataframe\">\n",
       "  <thead>\n",
       "    <tr style=\"text-align: right;\">\n",
       "      <th></th>\n",
       "      <th>ID</th>\n",
       "      <th>shop_id</th>\n",
       "      <th>item_id</th>\n",
       "      <th>item_category_id</th>\n",
       "      <th>item_price</th>\n",
       "      <th>date_month</th>\n",
       "    </tr>\n",
       "  </thead>\n",
       "  <tbody>\n",
       "    <tr>\n",
       "      <th>0</th>\n",
       "      <td>88174</td>\n",
       "      <td>18</td>\n",
       "      <td>16146</td>\n",
       "      <td>64</td>\n",
       "      <td>1399.0</td>\n",
       "      <td>201301</td>\n",
       "    </tr>\n",
       "    <tr>\n",
       "      <th>1</th>\n",
       "      <td>19220</td>\n",
       "      <td>3</td>\n",
       "      <td>5272</td>\n",
       "      <td>30</td>\n",
       "      <td>599.0</td>\n",
       "      <td>201301</td>\n",
       "    </tr>\n",
       "    <tr>\n",
       "      <th>2</th>\n",
       "      <td>82894</td>\n",
       "      <td>16</td>\n",
       "      <td>16167</td>\n",
       "      <td>64</td>\n",
       "      <td>659.0</td>\n",
       "      <td>201301</td>\n",
       "    </tr>\n",
       "    <tr>\n",
       "      <th>3</th>\n",
       "      <td>178465</td>\n",
       "      <td>35</td>\n",
       "      <td>18589</td>\n",
       "      <td>37</td>\n",
       "      <td>999.0</td>\n",
       "      <td>201301</td>\n",
       "    </tr>\n",
       "    <tr>\n",
       "      <th>4</th>\n",
       "      <td>5122</td>\n",
       "      <td>4</td>\n",
       "      <td>5823</td>\n",
       "      <td>35</td>\n",
       "      <td>2500.0</td>\n",
       "      <td>201301</td>\n",
       "    </tr>\n",
       "  </tbody>\n",
       "</table>\n",
       "</div>"
      ],
      "text/plain": [
       "       ID  shop_id  item_id  item_category_id  item_price  date_month\n",
       "0   88174       18    16146                64      1399.0      201301\n",
       "1   19220        3     5272                30       599.0      201301\n",
       "2   82894       16    16167                64       659.0      201301\n",
       "3  178465       35    18589                37       999.0      201301\n",
       "4    5122        4     5823                35      2500.0      201301"
      ]
     },
     "execution_count": 31,
     "metadata": {},
     "output_type": "execute_result"
    }
   ],
   "source": [
    "df.head()"
   ]
  },
  {
   "cell_type": "code",
   "execution_count": 32,
   "metadata": {},
   "outputs": [
    {
     "data": {
      "text/html": [
       "<div>\n",
       "<style scoped>\n",
       "    .dataframe tbody tr th:only-of-type {\n",
       "        vertical-align: middle;\n",
       "    }\n",
       "\n",
       "    .dataframe tbody tr th {\n",
       "        vertical-align: top;\n",
       "    }\n",
       "\n",
       "    .dataframe thead th {\n",
       "        text-align: right;\n",
       "    }\n",
       "</style>\n",
       "<table border=\"1\" class=\"dataframe\">\n",
       "  <thead>\n",
       "    <tr style=\"text-align: right;\">\n",
       "      <th></th>\n",
       "      <th>ID</th>\n",
       "      <th>shop_id</th>\n",
       "      <th>item_id</th>\n",
       "    </tr>\n",
       "  </thead>\n",
       "  <tbody>\n",
       "    <tr>\n",
       "      <th>0</th>\n",
       "      <td>0</td>\n",
       "      <td>5</td>\n",
       "      <td>5037</td>\n",
       "    </tr>\n",
       "    <tr>\n",
       "      <th>1</th>\n",
       "      <td>1</td>\n",
       "      <td>5</td>\n",
       "      <td>5320</td>\n",
       "    </tr>\n",
       "    <tr>\n",
       "      <th>2</th>\n",
       "      <td>2</td>\n",
       "      <td>5</td>\n",
       "      <td>5233</td>\n",
       "    </tr>\n",
       "    <tr>\n",
       "      <th>3</th>\n",
       "      <td>3</td>\n",
       "      <td>5</td>\n",
       "      <td>5232</td>\n",
       "    </tr>\n",
       "    <tr>\n",
       "      <th>4</th>\n",
       "      <td>4</td>\n",
       "      <td>5</td>\n",
       "      <td>5268</td>\n",
       "    </tr>\n",
       "  </tbody>\n",
       "</table>\n",
       "</div>"
      ],
      "text/plain": [
       "   ID  shop_id  item_id\n",
       "0   0        5     5037\n",
       "1   1        5     5320\n",
       "2   2        5     5233\n",
       "3   3        5     5232\n",
       "4   4        5     5268"
      ]
     },
     "execution_count": 32,
     "metadata": {},
     "output_type": "execute_result"
    }
   ],
   "source": [
    "df_test.head()"
   ]
  },
  {
   "cell_type": "code",
   "execution_count": 77,
   "metadata": {},
   "outputs": [],
   "source": [
    "# merge with df to get item_category_id and item_price, taking last() item when removing duplicates to get latest price\n",
    "df_test_merged = pd.merge(df_test, df.drop(['date_month'], axis=1), how='left', on=['ID', 'shop_id', 'item_id'], sort=True)\n",
    "df_test_merged = df_test_merged.fillna(0)\n",
    "df_test_merged = df_test_merged.groupby(['ID', 'shop_id', 'item_id', 'item_category_id']).last().reset_index()\n",
    "# add in the month we are predicting for\n",
    "df_test_merged['date_month'] = '201511'"
   ]
  },
  {
   "cell_type": "code",
   "execution_count": 79,
   "metadata": {},
   "outputs": [
    {
     "data": {
      "text/html": [
       "<div>\n",
       "<style scoped>\n",
       "    .dataframe tbody tr th:only-of-type {\n",
       "        vertical-align: middle;\n",
       "    }\n",
       "\n",
       "    .dataframe tbody tr th {\n",
       "        vertical-align: top;\n",
       "    }\n",
       "\n",
       "    .dataframe thead th {\n",
       "        text-align: right;\n",
       "    }\n",
       "</style>\n",
       "<table border=\"1\" class=\"dataframe\">\n",
       "  <thead>\n",
       "    <tr style=\"text-align: right;\">\n",
       "      <th></th>\n",
       "      <th>ID</th>\n",
       "      <th>shop_id</th>\n",
       "      <th>item_id</th>\n",
       "      <th>item_category_id</th>\n",
       "      <th>item_price</th>\n",
       "      <th>date_month</th>\n",
       "    </tr>\n",
       "  </thead>\n",
       "  <tbody>\n",
       "    <tr>\n",
       "      <th>0</th>\n",
       "      <td>0</td>\n",
       "      <td>5</td>\n",
       "      <td>5037</td>\n",
       "      <td>19.0</td>\n",
       "      <td>749.5</td>\n",
       "      <td>201511</td>\n",
       "    </tr>\n",
       "    <tr>\n",
       "      <th>1</th>\n",
       "      <td>1</td>\n",
       "      <td>5</td>\n",
       "      <td>5320</td>\n",
       "      <td>0.0</td>\n",
       "      <td>0.0</td>\n",
       "      <td>201511</td>\n",
       "    </tr>\n",
       "    <tr>\n",
       "      <th>2</th>\n",
       "      <td>2</td>\n",
       "      <td>5</td>\n",
       "      <td>5233</td>\n",
       "      <td>19.0</td>\n",
       "      <td>1199.0</td>\n",
       "      <td>201511</td>\n",
       "    </tr>\n",
       "    <tr>\n",
       "      <th>3</th>\n",
       "      <td>3</td>\n",
       "      <td>5</td>\n",
       "      <td>5232</td>\n",
       "      <td>23.0</td>\n",
       "      <td>599.0</td>\n",
       "      <td>201511</td>\n",
       "    </tr>\n",
       "    <tr>\n",
       "      <th>4</th>\n",
       "      <td>4</td>\n",
       "      <td>5</td>\n",
       "      <td>5268</td>\n",
       "      <td>0.0</td>\n",
       "      <td>0.0</td>\n",
       "      <td>201511</td>\n",
       "    </tr>\n",
       "  </tbody>\n",
       "</table>\n",
       "</div>"
      ],
      "text/plain": [
       "   ID  shop_id  item_id  item_category_id  item_price date_month\n",
       "0   0        5     5037              19.0       749.5     201511\n",
       "1   1        5     5320               0.0         0.0     201511\n",
       "2   2        5     5233              19.0      1199.0     201511\n",
       "3   3        5     5232              23.0       599.0     201511\n",
       "4   4        5     5268               0.0         0.0     201511"
      ]
     },
     "execution_count": 79,
     "metadata": {},
     "output_type": "execute_result"
    }
   ],
   "source": [
    "df_test_merged.head()"
   ]
  },
  {
   "cell_type": "code",
   "execution_count": 80,
   "metadata": {},
   "outputs": [
    {
     "data": {
      "text/html": [
       "<div>\n",
       "<style scoped>\n",
       "    .dataframe tbody tr th:only-of-type {\n",
       "        vertical-align: middle;\n",
       "    }\n",
       "\n",
       "    .dataframe tbody tr th {\n",
       "        vertical-align: top;\n",
       "    }\n",
       "\n",
       "    .dataframe thead th {\n",
       "        text-align: right;\n",
       "    }\n",
       "</style>\n",
       "<table border=\"1\" class=\"dataframe\">\n",
       "  <thead>\n",
       "    <tr style=\"text-align: right;\">\n",
       "      <th></th>\n",
       "      <th>ID</th>\n",
       "      <th>item_cnt_month</th>\n",
       "    </tr>\n",
       "  </thead>\n",
       "  <tbody>\n",
       "    <tr>\n",
       "      <th>0</th>\n",
       "      <td>0</td>\n",
       "      <td>1.075</td>\n",
       "    </tr>\n",
       "    <tr>\n",
       "      <th>1</th>\n",
       "      <td>1</td>\n",
       "      <td>544.525</td>\n",
       "    </tr>\n",
       "    <tr>\n",
       "      <th>2</th>\n",
       "      <td>2</td>\n",
       "      <td>1.250</td>\n",
       "    </tr>\n",
       "    <tr>\n",
       "      <th>3</th>\n",
       "      <td>3</td>\n",
       "      <td>1.300</td>\n",
       "    </tr>\n",
       "    <tr>\n",
       "      <th>4</th>\n",
       "      <td>4</td>\n",
       "      <td>544.525</td>\n",
       "    </tr>\n",
       "  </tbody>\n",
       "</table>\n",
       "</div>"
      ],
      "text/plain": [
       "   ID  item_cnt_month\n",
       "0   0           1.075\n",
       "1   1         544.525\n",
       "2   2           1.250\n",
       "3   3           1.300\n",
       "4   4         544.525"
      ]
     },
     "execution_count": 80,
     "metadata": {},
     "output_type": "execute_result"
    }
   ],
   "source": [
    "submission = pd.DataFrame({'ID': df_test_merged['ID'], 'item_cnt_month': m.predict(df_test_merged)})\n",
    "submission.head()"
   ]
  },
  {
   "cell_type": "code",
   "execution_count": 92,
   "metadata": {},
   "outputs": [],
   "source": [
    "# turn all previously missing values (ID not in df) to 0 item_cnt_month\n",
    "submission.loc[~submission.ID.isin(df.ID), ['item_cnt_month']] = 0"
   ]
  },
  {
   "cell_type": "code",
   "execution_count": 96,
   "metadata": {},
   "outputs": [],
   "source": [
    "submission.to_csv('data/future_sales/real_submission.csv', index=False)"
   ]
  },
  {
   "cell_type": "markdown",
   "metadata": {},
   "source": [
    "### 5. Conclusion\n",
    "\n",
    "Sadly, this Random Forest model, despite having a decent $R^2$ value, has a pretty bad RMSE, and therefore is not an improvement over the sample submission of all 0.5 values.\n",
    "\n",
    "Why? We probably don't have enough features to make a valid prediction. I am guessing the high-value predictions are using analysis on the item or shop names, rather than operating solely on the `item_price` and `item_category_id`.\n",
    "\n",
    "After doing some research, I found (this blog post)[https://www.kaggle.com/szhou42/predict-future-sales-top-11-solution] which confirms that my issue is feature related, not model related. Their initial RMSE was around the same as mine, but then they did some category massaging (collapsing overly specific categories into broad categories) and feature engineering. This feature engineering is something I haven't encountered yet, but it makes sense that Random won't be able to find such interactions. However, many people also suggest using a time-series based model like XGBoost rather than Random Forest, but I don't yet know enough to understand if that is important for this problem."
   ]
  },
  {
   "cell_type": "code",
   "execution_count": null,
   "metadata": {},
   "outputs": [],
   "source": []
  }
 ],
 "metadata": {
  "kernelspec": {
   "display_name": "Python 3",
   "language": "python",
   "name": "python3"
  },
  "language_info": {
   "codemirror_mode": {
    "name": "ipython",
    "version": 3
   },
   "file_extension": ".py",
   "mimetype": "text/x-python",
   "name": "python",
   "nbconvert_exporter": "python",
   "pygments_lexer": "ipython3",
   "version": "3.6.8"
  }
 },
 "nbformat": 4,
 "nbformat_minor": 2
}
